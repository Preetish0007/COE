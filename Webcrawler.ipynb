{
  "nbformat": 4,
  "nbformat_minor": 0,
  "metadata": {
    "colab": {
      "provenance": [],
      "authorship_tag": "ABX9TyOL0+RXQ53dgNO7JBWcdjLz",
      "include_colab_link": true
    },
    "kernelspec": {
      "name": "python3",
      "display_name": "Python 3"
    },
    "language_info": {
      "name": "python"
    }
  },
  "cells": [
    {
      "cell_type": "markdown",
      "metadata": {
        "id": "view-in-github",
        "colab_type": "text"
      },
      "source": [
        "<a href=\"https://colab.research.google.com/github/Preetish0007/COE/blob/main/Webcrawler.ipynb\" target=\"_parent\"><img src=\"https://colab.research.google.com/assets/colab-badge.svg\" alt=\"Open In Colab\"/></a>"
      ]
    },
    {
      "cell_type": "code",
      "source": [
        "\n",
        "import requests\n",
        "from bs4 import BeautifulSoup\n",
        "from collections import Counter\n",
        "\n",
        "def get_hyperlinks_from_html(html_content):\n",
        "    soup = BeautifulSoup(html_content, 'html.parser')\n",
        "    links = []\n",
        "    for a_tag in soup.find_all('a', href=True):\n",
        "        link = a_tag['href']\n",
        "        if link.startswith(\"http\") or link.startswith(\"www\"):\n",
        "            links.append(link)\n",
        "    return links\n",
        "\n",
        "def rank_hyperlinks(links):\n",
        "    link_counter = Counter(links)\n",
        "    ranked_links = link_counter.most_common()\n",
        "    return ranked_links\n",
        "\n",
        "def main():\n",
        "    url = 'http://www.poornima.org'  # Replace with the actual URL of Poornima College of Engineering\n",
        "    response = requests.get(url)\n",
        "\n",
        "    if response.status_code == 200:\n",
        "        html_content = response.text\n",
        "        hyperlinks = get_hyperlinks_from_html(html_content)\n",
        "        ranked_hyperlinks = rank_hyperlinks(hyperlinks)\n",
        "\n",
        "        print(\"Hyperlink Frequencies and Rankings:\")\n",
        "        for link, frequency in ranked_hyperlinks:\n",
        "            print(f\"{link}: {frequency}\")\n",
        "    else:\n",
        "        print(f\"Failed to retrieve the webpage. Status code: {response.status_code}\")\n",
        "\n",
        "if __name__ == '__main__':\n",
        "    main()"
      ],
      "metadata": {
        "colab": {
          "base_uri": "https://localhost:8080/"
        },
        "id": "eFd5HWeIXxno",
        "outputId": "3575441c-b0db-46fc-874d-d1b7d0a51615"
      },
      "execution_count": 2,
      "outputs": [
        {
          "output_type": "stream",
          "name": "stdout",
          "text": [
            "Hyperlink Frequencies and Rankings:\n",
            "http://pcas.poornima.org/: 2\n",
            "https://www.linkedin.com/school/poornima-group-of-colleges/jobs: 2\n",
            "https://www.tcsion.com/dotcom/TCSSMB/Login/login.html: 2\n",
            "https://ieeexplore.ieee.org/Xplore/home.jsp: 2\n",
            "https://www.poornima.org/public/uploads/PGCProspectus2024-25.pdf: 2\n",
            "https://api.whatsapp.com/send?text=Hi!+I+have+an+enquiry&phone=%20+91-9928666222: 2\n",
            "https://www.facebook.com/Poornima.College.Engineering: 2\n",
            "https://www.instagram.com/poornimacollege: 2\n",
            "https://www.linkedin.com/school/poornima-college-of-engineering-jaipur: 2\n",
            "https://twitter.com/poornimacollege: 2\n",
            "https://www.youtube.com/channel/UC2msVsvmUenma6MNv_KWCZw?view_as=subscriber: 2\n",
            "https://rtu.ac.in/index/view_menudata.php?page=RTU-Syllabus4: 1\n",
            "https://www.poornima.org/wp-content/uploads/2020/02/Smart-Prep-your-guide-for-examinationDo-and-Dont.pdf: 1\n",
            "https://www.linkedin.com/school/poornima-university/jobs/?viewAsMember=true: 1\n",
            "https://www.poornima.org/public/uploads/PCE%20Academic%20Calendar%20(Even%202023-24).pdf: 1\n",
            "https://blog.poornima.org: 1\n",
            "https://goo.gl/maps/VFyi5L9ts9qGJvtA6: 1\n",
            "https://adsgrip.com: 1\n",
            "https://poornima.org/online: 1\n",
            "https://admission.poornima.org: 1\n",
            "https://api.whatsapp.com/send?text=Hi!+I+have+an+enquiry&phone= +91-9928666222: 1\n"
          ]
        }
      ]
    }
  ]
}