{
  "nbformat": 4,
  "nbformat_minor": 0,
  "metadata": {
    "colab": {
      "provenance": [],
      "authorship_tag": "ABX9TyOzPH5E8Xcr5oo8Y6te2d+l",
      "include_colab_link": true
    },
    "kernelspec": {
      "name": "python3",
      "display_name": "Python 3"
    },
    "language_info": {
      "name": "python"
    }
  },
  "cells": [
    {
      "cell_type": "markdown",
      "metadata": {
        "id": "view-in-github",
        "colab_type": "text"
      },
      "source": [
        "<a href=\"https://colab.research.google.com/github/Preetish0007/COE/blob/main/Assignment_5(feature_engineering).ipynb\" target=\"_parent\"><img src=\"https://colab.research.google.com/assets/colab-badge.svg\" alt=\"Open In Colab\"/></a>"
      ]
    },
    {
      "cell_type": "code",
      "execution_count": 2,
      "metadata": {
        "colab": {
          "base_uri": "https://localhost:8080/"
        },
        "id": "dTbl1UY78wt_",
        "outputId": "03421105-67fd-4870-b64d-aeb6d75bd25d"
      },
      "outputs": [
        {
          "output_type": "stream",
          "name": "stdout",
          "text": [
            "   Survived  Pclass       Age  SibSp  Parch      Fare  FamilySize  IsAlone  \\\n",
            "0         0       3 -0.565736      1      0 -0.502445    0.059160        0   \n",
            "1         1       1  0.663861      1      0  0.786845    0.059160        0   \n",
            "2         1       3 -0.258337      0      0 -0.488854   -0.560975        1   \n",
            "3         1       1  0.433312      1      0  0.420730    0.059160        0   \n",
            "4         0       3  0.433312      0      0 -0.486337   -0.560975        1   \n",
            "\n",
            "   Sex_male  Embarked_Q  Embarked_S  \n",
            "0      True       False        True  \n",
            "1     False       False       False  \n",
            "2     False       False        True  \n",
            "3     False       False        True  \n",
            "4      True       False        True  \n",
            "<class 'pandas.core.frame.DataFrame'>\n",
            "RangeIndex: 891 entries, 0 to 890\n",
            "Data columns (total 11 columns):\n",
            " #   Column      Non-Null Count  Dtype  \n",
            "---  ------      --------------  -----  \n",
            " 0   Survived    891 non-null    int64  \n",
            " 1   Pclass      891 non-null    int64  \n",
            " 2   Age         891 non-null    float64\n",
            " 3   SibSp       891 non-null    int64  \n",
            " 4   Parch       891 non-null    int64  \n",
            " 5   Fare        891 non-null    float64\n",
            " 6   FamilySize  891 non-null    float64\n",
            " 7   IsAlone     891 non-null    int64  \n",
            " 8   Sex_male    891 non-null    bool   \n",
            " 9   Embarked_Q  891 non-null    bool   \n",
            " 10  Embarked_S  891 non-null    bool   \n",
            "dtypes: bool(3), float64(3), int64(5)\n",
            "memory usage: 58.4 KB\n",
            "None\n"
          ]
        },
        {
          "output_type": "stream",
          "name": "stderr",
          "text": [
            "<ipython-input-2-46b9626e4863>:15: SettingWithCopyWarning: \n",
            "A value is trying to be set on a copy of a slice from a DataFrame\n",
            "\n",
            "See the caveats in the documentation: https://pandas.pydata.org/pandas-docs/stable/user_guide/indexing.html#returning-a-view-versus-a-copy\n",
            "  titanic_df['IsAlone'].loc[titanic_df['FamilySize'] > 1] = 0  # Recode to 0 (false)\n"
          ]
        }
      ],
      "source": [
        "\n",
        "import pandas as pd\n",
        "from sklearn.preprocessing import StandardScaler\n",
        "\n",
        "# Load the Titanic dataset\n",
        "titanic_df = pd.read_csv(\"/content/Titanic-Dataset.csv\")\n",
        "\n",
        "# Handling missing values\n",
        "titanic_df['Age'].fillna(titanic_df['Age'].median(), inplace=True)\n",
        "titanic_df['Embarked'].fillna(titanic_df['Embarked'].mode()[0], inplace=True)\n",
        "titanic_df.drop('Cabin', axis=1, inplace=True)\n",
        "\n",
        "# Feature Engineering\n",
        "titanic_df['FamilySize'] = titanic_df['SibSp'] + titanic_df['Parch'] + 1\n",
        "titanic_df['IsAlone'] = 1  # Initialize to 1 (true)\n",
        "titanic_df['IsAlone'].loc[titanic_df['FamilySize'] > 1] = 0  # Recode to 0 (false)\n",
        "titanic_df.drop(['PassengerId', 'Name', 'Ticket'], axis=1, inplace=True)\n",
        "\n",
        "# Encoding categorical variables\n",
        "titanic_df = pd.get_dummies(titanic_df, columns=['Sex', 'Embarked'], drop_first=True)\n",
        "\n",
        "# Normalizing numerical features\n",
        "features_to_scale = ['Age', 'Fare', 'FamilySize']\n",
        "scaler = StandardScaler()\n",
        "titanic_df[features_to_scale] = scaler.fit_transform(titanic_df[features_to_scale])\n",
        "\n",
        "# Final check\n",
        "print(titanic_df.head())\n",
        "print(titanic_df.info())"
      ]
    }
  ]
}