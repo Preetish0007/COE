{
  "nbformat": 4,
  "nbformat_minor": 0,
  "metadata": {
    "colab": {
      "provenance": [],
      "authorship_tag": "ABX9TyOLpaA3pH0yCF+rhZ3qstZb",
      "include_colab_link": true
    },
    "kernelspec": {
      "name": "python3",
      "display_name": "Python 3"
    },
    "language_info": {
      "name": "python"
    }
  },
  "cells": [
    {
      "cell_type": "markdown",
      "metadata": {
        "id": "view-in-github",
        "colab_type": "text"
      },
      "source": [
        "<a href=\"https://colab.research.google.com/github/Preetish0007/COE/blob/main/Visualization_(week_3)_on_titanic.ipynb\" target=\"_parent\"><img src=\"https://colab.research.google.com/assets/colab-badge.svg\" alt=\"Open In Colab\"/></a>"
      ]
    },
    {
      "cell_type": "code",
      "execution_count": null,
      "metadata": {
        "id": "bFBTOuFPlf1V"
      },
      "outputs": [],
      "source": [
        "\n",
        "import seaborn as sns\n",
        "import matplotlib.pyplot as plt\n",
        "\n",
        "# Load the Titanic dataset\n",
        "titanic = sns.load_dataset('titanic')\n",
        "\n",
        "# Display the first few rows of the dataset\n",
        "print(titanic.head())\n",
        "\n",
        "# Set the style of the visualizations\n",
        "sns.set(style=\"whitegrid\")\n",
        "\n",
        "# 1. Count plot of survivors\n",
        "plt.figure(figsize=(10, 6))\n",
        "sns.countplot(data=titanic, x='survived')\n",
        "plt.title('Count of Survivors')\n",
        "plt.xlabel('Survived')\n",
        "plt.ylabel('Count')\n",
        "plt.show()\n",
        "\n",
        "# 2. Count plot of passengers by class\n",
        "plt.figure(figsize=(10, 6))\n",
        "sns.countplot(data=titanic, x='pclass', hue='survived')\n",
        "plt.title('Count of Passengers by Class')\n",
        "plt.xlabel('Passenger Class')\n",
        "plt.ylabel('Count')\n",
        "plt.legend(title='Survived')\n",
        "plt.show()\n",
        "\n",
        "# 3. Distribution of age\n",
        "plt.figure(figsize=(10, 6))\n",
        "sns.histplot(data=titanic, x='age', kde=True, bins=30)\n",
        "plt.title('Age Distribution of Passengers')\n",
        "plt.xlabel('Age')\n",
        "plt.ylabel('Frequency')\n",
        "plt.show()\n",
        "\n",
        "# 4. Box plot of age by passenger class\n",
        "plt.figure(figsize=(10, 6))\n",
        "sns.boxplot(data=titanic, x='pclass', y='age')\n",
        "plt.title('Age Distribution by Passenger Class')\n",
        "plt.xlabel('Passenger Class')\n",
        "plt.ylabel('Age')\n",
        "plt.show()\n",
        "\n",
        "# 5. Count plot of passengers by gender\n",
        "plt.figure(figsize=(10, 6))\n",
        "sns.countplot(data=titanic, x='sex', hue='survived')\n",
        "plt.title('Count of Passengers by Gender')\n",
        "plt.xlabel('Gender')\n",
        "plt.ylabel('Count')\n",
        "plt.legend(title='Survived')\n",
        "plt.show()\n",
        "\n",
        "# 6. Point plot of survival rate by class and gender\n",
        "plt.figure(figsize=(10, 6))\n",
        "sns.pointplot(data=titanic, x='pclass', y='survived', hue='sex', palette={'male': 'blue', 'female': 'pink'}, markers=['o', 'x'], linestyles=['-', '--'])\n",
        "plt.title('Survival Rate by Class and Gender')\n",
        "plt.xlabel('Passenger Class')\n",
        "plt.ylabel('Survival Rate')\n",
        "plt.show()\n",
        "\n",
        "# 7. Heatmap of correlation matrix\n",
        "plt.figure(figsize=(12, 8))\n",
        "corr_matrix = titanic.corr()\n",
        "sns.heatmap(corr_matrix, annot=True, cmap='coolwarm', linewidths=0.5)\n",
        "plt.title('Correlation Matrix')\n",
        "plt.show()"
      ]
    }
  ]
}