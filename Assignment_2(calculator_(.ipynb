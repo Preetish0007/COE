{
  "nbformat": 4,
  "nbformat_minor": 0,
  "metadata": {
    "colab": {
      "provenance": [],
      "authorship_tag": "ABX9TyPML+cXmE6XkpJYS0upsAWY",
      "include_colab_link": true
    },
    "kernelspec": {
      "name": "python3",
      "display_name": "Python 3"
    },
    "language_info": {
      "name": "python"
    }
  },
  "cells": [
    {
      "cell_type": "markdown",
      "metadata": {
        "id": "view-in-github",
        "colab_type": "text"
      },
      "source": [
        "<a href=\"https://colab.research.google.com/github/Preetish0007/COE/blob/main/Assignment_2(calculator_(.ipynb\" target=\"_parent\"><img src=\"https://colab.research.google.com/assets/colab-badge.svg\" alt=\"Open In Colab\"/></a>"
      ]
    },
    {
      "cell_type": "code",
      "execution_count": 4,
      "metadata": {
        "colab": {
          "base_uri": "https://localhost:8080/"
        },
        "id": "5VQRX8n0-c94",
        "outputId": "e2369c09-5964-4ec8-ef31-930ea308fe5f"
      },
      "outputs": [
        {
          "output_type": "stream",
          "name": "stdout",
          "text": [
            "Please select operation1 Add\n",
            "2 Subtract\n",
            "3 Multiply\n",
            "4 Divide\n",
            "\n",
            "Select operations from 1, 2, 3, 4 :1\n",
            "Enter first number: 2\n",
            "Enter second number: 4\n",
            "2 + 4 = 6\n"
          ]
        }
      ],
      "source": [
        "def add(num1, num2):\n",
        "    return num1 + num2\n",
        "\n",
        "\n",
        "def subtract(num1, num2):\n",
        "    return num1 - num2\n",
        "\n",
        "\n",
        "def multiply(num1, num2):\n",
        "    return num1 * num2\n",
        "\n",
        "\n",
        "def divide(num1, num2):\n",
        "    return num1 / num2\n",
        "\n",
        "print(\"Please select operation\"\n",
        "        \"1 Add\\n\" \\\n",
        "        \"2 Subtract\\n\" \\\n",
        "        \"3 Multiply\\n\" \\\n",
        "        \"4 Divide\\n\")\n",
        "\n",
        "\n",
        "\n",
        "select = int(input(\"Select operations from 1, 2, 3, 4 :\"))\n",
        "\n",
        "number_1 = int(input(\"Enter first number: \"))\n",
        "number_2 = int(input(\"Enter second number: \"))\n",
        "\n",
        "if select == 1:\n",
        "    print(number_1, \"+\", number_2, \"=\",\n",
        "                    add(number_1, number_2))\n",
        "\n",
        "elif select == 2:\n",
        "    print(number_1, \"-\", number_2, \"=\",\n",
        "                    subtract(number_1, number_2))\n",
        "\n",
        "elif select == 3:\n",
        "    print(number_1, \"*\", number_2, \"=\",\n",
        "                    multiply(number_1, number_2))\n",
        "\n",
        "elif select == 4:\n",
        "    print(number_1, \"/\", number_2, \"=\",\n",
        "                    divide(number_1, number_2))\n",
        "else:\n",
        "    print(\"Invalid input\")"
      ]
    }
  ]
}