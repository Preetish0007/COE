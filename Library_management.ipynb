{
  "nbformat": 4,
  "nbformat_minor": 0,
  "metadata": {
    "colab": {
      "provenance": [],
      "authorship_tag": "ABX9TyPh9xkY0ZoM8zeKoRXk622C",
      "include_colab_link": true
    },
    "kernelspec": {
      "name": "python3",
      "display_name": "Python 3"
    },
    "language_info": {
      "name": "python"
    }
  },
  "cells": [
    {
      "cell_type": "markdown",
      "metadata": {
        "id": "view-in-github",
        "colab_type": "text"
      },
      "source": [
        "<a href=\"https://colab.research.google.com/github/Preetish0007/COE/blob/main/Library_management.ipynb\" target=\"_parent\"><img src=\"https://colab.research.google.com/assets/colab-badge.svg\" alt=\"Open In Colab\"/></a>"
      ]
    },
    {
      "cell_type": "code",
      "execution_count": null,
      "metadata": {
        "colab": {
          "base_uri": "https://localhost:8080/"
        },
        "id": "b-zqxqrjW6Tq",
        "outputId": "9679ad41-b34e-4c11-e3b6-b2d6f4a0bb2c"
      },
      "outputs": [
        {
          "output_type": "stream",
          "name": "stdout",
          "text": [
            "Available Books:\n",
            "Python Programming by Guido van Rossum\n",
            "Deep Learning by Ian Goodfellow\n",
            "Alice borrowed Python Programming\n",
            "Bob borrowed Python Programming\n",
            "Alice returned Python Programming\n"
          ]
        }
      ],
      "source": [
        "\n",
        "class Book:\n",
        "    def __init__(self, title, author, isbn, quantity):\n",
        "        self.title = title\n",
        "        self.author = author\n",
        "        self.isbn = isbn\n",
        "        self.quantity = quantity\n",
        "\n",
        "class User:\n",
        "    def __init__(self, name, user_id):\n",
        "        self.name = name\n",
        "        self.user_id = user_id\n",
        "        self.books_borrowed = []\n",
        "\n",
        "    def borrow_book(self, book):\n",
        "        if book.quantity > 0:\n",
        "            self.books_borrowed.append(book)\n",
        "            book.quantity -= 1\n",
        "            print(f\"{self.name} borrowed {book.title}\")\n",
        "        else:\n",
        "            print(\"Book not available\")\n",
        "\n",
        "    def return_book(self, book):\n",
        "        if book in self.books_borrowed:\n",
        "            self.books_borrowed.remove(book)\n",
        "            book.quantity += 1\n",
        "            print(f\"{self.name} returned {book.title}\")\n",
        "        else:\n",
        "            print(\"You haven't borrowed this book\")\n",
        "\n",
        "class Library:\n",
        "    def __init__(self):\n",
        "        self.books = []\n",
        "\n",
        "    def add_book(self, book):\n",
        "        self.books.append(book)\n",
        "\n",
        "    def display_books(self):\n",
        "        print(\"Available Books:\")\n",
        "        for book in self.books:\n",
        "            print(f\"{book.title} by {book.author}\")\n",
        "\n",
        "# Usage\n",
        "library = Library()\n",
        "book1 = Book(\"Python Programming\", \"Guido van Rossum\", \"978-0-13-444432-1\", 5)\n",
        "book2 = Book(\"Deep Learning\", \"Ian Goodfellow\", \"978-0-262-33718-0\", 3)\n",
        "library.add_book(book1)\n",
        "library.add_book(book2)\n",
        "\n",
        "user1 = User(\"Alice\", \"001\")\n",
        "user2 = User(\"Bob\", \"002\")\n",
        "\n",
        "library.display_books()\n",
        "user1.borrow_book(book1)\n",
        "user2.borrow_book(book1)\n",
        "user1.return_book(book1)"
      ]
    }
  ]
}