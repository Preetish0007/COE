{
  "nbformat": 4,
  "nbformat_minor": 0,
  "metadata": {
    "colab": {
      "provenance": [],
      "authorship_tag": "ABX9TyP2dUFpTpeSaEWK8Z17hZuL",
      "include_colab_link": true
    },
    "kernelspec": {
      "name": "python3",
      "display_name": "Python 3"
    },
    "language_info": {
      "name": "python"
    }
  },
  "cells": [
    {
      "cell_type": "markdown",
      "metadata": {
        "id": "view-in-github",
        "colab_type": "text"
      },
      "source": [
        "<a href=\"https://colab.research.google.com/github/Preetish0007/COE/blob/main/Library_management.ipynb\" target=\"_parent\"><img src=\"https://colab.research.google.com/assets/colab-badge.svg\" alt=\"Open In Colab\"/></a>"
      ]
    },
    {
      "cell_type": "code",
      "execution_count": 3,
      "metadata": {
        "colab": {
          "base_uri": "https://localhost:8080/"
        },
        "id": "b-zqxqrjW6Tq",
        "outputId": "328264e9-f8e6-4b0d-833e-ce359a50aaa9"
      },
      "outputs": [
        {
          "output_type": "stream",
          "name": "stdout",
          "text": [
            "Available Books:\n",
            "Python Programming by Preetish\n",
            "Deep Learning by Yash\n",
            "Pm borrowed Python Programming\n",
            "yash borrowed Python Programming\n",
            "Pm returned Python Programming\n"
          ]
        }
      ],
      "source": [
        "\n",
        "class Book:\n",
        "    def __init__(self, title, author, isbn, quantity):\n",
        "        self.title = title\n",
        "        self.author = author\n",
        "        self.isbn = isbn\n",
        "        self.quantity = quantity\n",
        "\n",
        "class User:\n",
        "    def __init__(self, name, user_id):\n",
        "        self.name = name\n",
        "        self.user_id = user_id\n",
        "        self.books_borrowed = []\n",
        "\n",
        "    def borrow_book(self, book):\n",
        "        if book.quantity > 0:\n",
        "            self.books_borrowed.append(book)\n",
        "            book.quantity -= 1\n",
        "            print(f\"{self.name} borrowed {book.title}\")\n",
        "        else:\n",
        "            print(\"Book not available\")\n",
        "\n",
        "    def return_book(self, book):\n",
        "        if book in self.books_borrowed:\n",
        "            self.books_borrowed.remove(book)\n",
        "            book.quantity += 1\n",
        "            print(f\"{self.name} returned {book.title}\")\n",
        "        else:\n",
        "            print(\"You haven't borrowed this book\")\n",
        "\n",
        "class Library:\n",
        "    def __init__(self):\n",
        "        self.books = []\n",
        "\n",
        "    def add_book(self, book):\n",
        "        self.books.append(book)\n",
        "\n",
        "    def display_books(self):\n",
        "        print(\"Available Books:\")\n",
        "        for book in self.books:\n",
        "            print(f\"{book.title} by {book.author}\")\n",
        "\n",
        "# Usage\n",
        "library = Library()\n",
        "book1 = Book(\"Python Programming\", \"Preetish\", \"978-0-13-444432-1\", 5)\n",
        "book2 = Book(\"Deep Learning\", \"Yash\", \"978-0-262-33718-0\", 3)\n",
        "library.add_book(book1)\n",
        "library.add_book(book2)\n",
        "\n",
        "user1 = User(\"Pm\", \"001\")\n",
        "user2 = User(\"yash\", \"002\")\n",
        "\n",
        "library.display_books()\n",
        "user1.borrow_book(book1)\n",
        "user2.borrow_book(book1)\n",
        "user1.return_book(book1)"
      ]
    }
  ]
}